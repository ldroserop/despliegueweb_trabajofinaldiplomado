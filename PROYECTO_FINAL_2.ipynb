{
  "nbformat": 4,
  "nbformat_minor": 0,
  "metadata": {
    "colab": {
      "provenance": []
    },
    "kernelspec": {
      "name": "python3",
      "display_name": "Python 3"
    },
    "language_info": {
      "name": "python"
    }
  },
  "cells": [
    {
      "cell_type": "code",
      "execution_count": null,
      "metadata": {
        "id": "vVrvDR765rLB"
      },
      "outputs": [],
      "source": [
        "import numpy as np\n",
        "import pandas as pd\n",
        "import os\n",
        "for dirname, _, filenames in os.walk('/kaggle/input'):\n",
        "    for filename in filenames:\n",
        "        print(os.path.join(dirname, filename))\n",
        "from sklearn.tree import DecisionTreeClassifier\n",
        "from sklearn.metrics import accuracy_score, classification_report, confusion_matrix, precision_score, recall_score, f1_score\n",
        "from sklearn.svm import SVC\n",
        "from sklearn.preprocessing import StandardScaler\n",
        "from sklearn.neighbors import KNeighborsClassifier"
      ]
    },
    {
      "cell_type": "code",
      "source": [
        "df = pd.read_excel(\"/content/drive/MyDrive/PROYECTO FINAL DIPLOMADO/AI On-Campus Research Survey (Responses).xlsx\")\n",
        "df.head()"
      ],
      "metadata": {
        "colab": {
          "base_uri": "https://localhost:8080/",
          "height": 363
        },
        "id": "weOolyvJ6GPm",
        "outputId": "f60b3264-4a93-469c-f027-2c1ac4f4a915"
      },
      "execution_count": null,
      "outputs": [
        {
          "output_type": "execute_result",
          "data": {
            "text/plain": [
              "                Timestamp  \\\n",
              "0 2023-03-31 19:59:11.443   \n",
              "1 2023-03-31 19:59:44.970   \n",
              "2 2023-03-31 20:06:24.653   \n",
              "3 2023-03-31 20:10:54.939   \n",
              "4 2023-03-31 20:14:34.488   \n",
              "\n",
              "   On a scale from 1 to 5, how would you rate your knowledge and understanding of Artificial Intelligence (AI)?  \\\n",
              "0                                                  5                                                              \n",
              "1                                                  4                                                              \n",
              "2                                                  3                                                              \n",
              "3                                                  4                                                              \n",
              "4                                                  5                                                              \n",
              "\n",
              "   On a scale from 1 to 5, how often do you use Artificial Intelligence (AI) for personal use?  \\\n",
              "0                                                  5                                             \n",
              "1                                                  3                                             \n",
              "2                                                  3                                             \n",
              "3                                                  3                                             \n",
              "4                                                  2                                             \n",
              "\n",
              "   On a scale from 1 to 5, how often do you use Artificial Intelligence (AI) for school-related tasks?  \\\n",
              "0                                                  5                                                     \n",
              "1                                                  4                                                     \n",
              "2                                                  5                                                     \n",
              "3                                                  5                                                     \n",
              "4                                                  1                                                     \n",
              "\n",
              "   On a scale from 1 to 5, how interested are you in pursuing a career in Artificial Intelligence?  \\\n",
              "0                                                  5                                                 \n",
              "1                                                  4                                                 \n",
              "2                                                  1                                                 \n",
              "3                                                  2                                                 \n",
              "4                                                  5                                                 \n",
              "\n",
              "  Do you know what Chat-GPT is?            What college are you in?  \n",
              "0                           Yes  Science, Engineering, & Technology  \n",
              "1                           Yes  Science, Engineering, & Technology  \n",
              "2                            No                            Business  \n",
              "3                           Yes                            Business  \n",
              "4                           Yes        Humanities & Social Sciences  "
            ],
            "text/html": [
              "\n",
              "  <div id=\"df-b18aa308-dbbd-4ab5-bffa-b398a084c7b8\" class=\"colab-df-container\">\n",
              "    <div>\n",
              "<style scoped>\n",
              "    .dataframe tbody tr th:only-of-type {\n",
              "        vertical-align: middle;\n",
              "    }\n",
              "\n",
              "    .dataframe tbody tr th {\n",
              "        vertical-align: top;\n",
              "    }\n",
              "\n",
              "    .dataframe thead th {\n",
              "        text-align: right;\n",
              "    }\n",
              "</style>\n",
              "<table border=\"1\" class=\"dataframe\">\n",
              "  <thead>\n",
              "    <tr style=\"text-align: right;\">\n",
              "      <th></th>\n",
              "      <th>Timestamp</th>\n",
              "      <th>On a scale from 1 to 5, how would you rate your knowledge and understanding of Artificial Intelligence (AI)?</th>\n",
              "      <th>On a scale from 1 to 5, how often do you use Artificial Intelligence (AI) for personal use?</th>\n",
              "      <th>On a scale from 1 to 5, how often do you use Artificial Intelligence (AI) for school-related tasks?</th>\n",
              "      <th>On a scale from 1 to 5, how interested are you in pursuing a career in Artificial Intelligence?</th>\n",
              "      <th>Do you know what Chat-GPT is?</th>\n",
              "      <th>What college are you in?</th>\n",
              "    </tr>\n",
              "  </thead>\n",
              "  <tbody>\n",
              "    <tr>\n",
              "      <th>0</th>\n",
              "      <td>2023-03-31 19:59:11.443</td>\n",
              "      <td>5</td>\n",
              "      <td>5</td>\n",
              "      <td>5</td>\n",
              "      <td>5</td>\n",
              "      <td>Yes</td>\n",
              "      <td>Science, Engineering, &amp; Technology</td>\n",
              "    </tr>\n",
              "    <tr>\n",
              "      <th>1</th>\n",
              "      <td>2023-03-31 19:59:44.970</td>\n",
              "      <td>4</td>\n",
              "      <td>3</td>\n",
              "      <td>4</td>\n",
              "      <td>4</td>\n",
              "      <td>Yes</td>\n",
              "      <td>Science, Engineering, &amp; Technology</td>\n",
              "    </tr>\n",
              "    <tr>\n",
              "      <th>2</th>\n",
              "      <td>2023-03-31 20:06:24.653</td>\n",
              "      <td>3</td>\n",
              "      <td>3</td>\n",
              "      <td>5</td>\n",
              "      <td>1</td>\n",
              "      <td>No</td>\n",
              "      <td>Business</td>\n",
              "    </tr>\n",
              "    <tr>\n",
              "      <th>3</th>\n",
              "      <td>2023-03-31 20:10:54.939</td>\n",
              "      <td>4</td>\n",
              "      <td>3</td>\n",
              "      <td>5</td>\n",
              "      <td>2</td>\n",
              "      <td>Yes</td>\n",
              "      <td>Business</td>\n",
              "    </tr>\n",
              "    <tr>\n",
              "      <th>4</th>\n",
              "      <td>2023-03-31 20:14:34.488</td>\n",
              "      <td>5</td>\n",
              "      <td>2</td>\n",
              "      <td>1</td>\n",
              "      <td>5</td>\n",
              "      <td>Yes</td>\n",
              "      <td>Humanities &amp; Social Sciences</td>\n",
              "    </tr>\n",
              "  </tbody>\n",
              "</table>\n",
              "</div>\n",
              "    <div class=\"colab-df-buttons\">\n",
              "\n",
              "  <div class=\"colab-df-container\">\n",
              "    <button class=\"colab-df-convert\" onclick=\"convertToInteractive('df-b18aa308-dbbd-4ab5-bffa-b398a084c7b8')\"\n",
              "            title=\"Convert this dataframe to an interactive table.\"\n",
              "            style=\"display:none;\">\n",
              "\n",
              "  <svg xmlns=\"http://www.w3.org/2000/svg\" height=\"24px\" viewBox=\"0 -960 960 960\">\n",
              "    <path d=\"M120-120v-720h720v720H120Zm60-500h600v-160H180v160Zm220 220h160v-160H400v160Zm0 220h160v-160H400v160ZM180-400h160v-160H180v160Zm440 0h160v-160H620v160ZM180-180h160v-160H180v160Zm440 0h160v-160H620v160Z\"/>\n",
              "  </svg>\n",
              "    </button>\n",
              "\n",
              "  <style>\n",
              "    .colab-df-container {\n",
              "      display:flex;\n",
              "      gap: 12px;\n",
              "    }\n",
              "\n",
              "    .colab-df-convert {\n",
              "      background-color: #E8F0FE;\n",
              "      border: none;\n",
              "      border-radius: 50%;\n",
              "      cursor: pointer;\n",
              "      display: none;\n",
              "      fill: #1967D2;\n",
              "      height: 32px;\n",
              "      padding: 0 0 0 0;\n",
              "      width: 32px;\n",
              "    }\n",
              "\n",
              "    .colab-df-convert:hover {\n",
              "      background-color: #E2EBFA;\n",
              "      box-shadow: 0px 1px 2px rgba(60, 64, 67, 0.3), 0px 1px 3px 1px rgba(60, 64, 67, 0.15);\n",
              "      fill: #174EA6;\n",
              "    }\n",
              "\n",
              "    .colab-df-buttons div {\n",
              "      margin-bottom: 4px;\n",
              "    }\n",
              "\n",
              "    [theme=dark] .colab-df-convert {\n",
              "      background-color: #3B4455;\n",
              "      fill: #D2E3FC;\n",
              "    }\n",
              "\n",
              "    [theme=dark] .colab-df-convert:hover {\n",
              "      background-color: #434B5C;\n",
              "      box-shadow: 0px 1px 3px 1px rgba(0, 0, 0, 0.15);\n",
              "      filter: drop-shadow(0px 1px 2px rgba(0, 0, 0, 0.3));\n",
              "      fill: #FFFFFF;\n",
              "    }\n",
              "  </style>\n",
              "\n",
              "    <script>\n",
              "      const buttonEl =\n",
              "        document.querySelector('#df-b18aa308-dbbd-4ab5-bffa-b398a084c7b8 button.colab-df-convert');\n",
              "      buttonEl.style.display =\n",
              "        google.colab.kernel.accessAllowed ? 'block' : 'none';\n",
              "\n",
              "      async function convertToInteractive(key) {\n",
              "        const element = document.querySelector('#df-b18aa308-dbbd-4ab5-bffa-b398a084c7b8');\n",
              "        const dataTable =\n",
              "          await google.colab.kernel.invokeFunction('convertToInteractive',\n",
              "                                                    [key], {});\n",
              "        if (!dataTable) return;\n",
              "\n",
              "        const docLinkHtml = 'Like what you see? Visit the ' +\n",
              "          '<a target=\"_blank\" href=https://colab.research.google.com/notebooks/data_table.ipynb>data table notebook</a>'\n",
              "          + ' to learn more about interactive tables.';\n",
              "        element.innerHTML = '';\n",
              "        dataTable['output_type'] = 'display_data';\n",
              "        await google.colab.output.renderOutput(dataTable, element);\n",
              "        const docLink = document.createElement('div');\n",
              "        docLink.innerHTML = docLinkHtml;\n",
              "        element.appendChild(docLink);\n",
              "      }\n",
              "    </script>\n",
              "  </div>\n",
              "\n",
              "\n",
              "<div id=\"df-e0168f5a-2fe2-405f-9e90-c9550b8ae1af\">\n",
              "  <button class=\"colab-df-quickchart\" onclick=\"quickchart('df-e0168f5a-2fe2-405f-9e90-c9550b8ae1af')\"\n",
              "            title=\"Suggest charts\"\n",
              "            style=\"display:none;\">\n",
              "\n",
              "<svg xmlns=\"http://www.w3.org/2000/svg\" height=\"24px\"viewBox=\"0 0 24 24\"\n",
              "     width=\"24px\">\n",
              "    <g>\n",
              "        <path d=\"M19 3H5c-1.1 0-2 .9-2 2v14c0 1.1.9 2 2 2h14c1.1 0 2-.9 2-2V5c0-1.1-.9-2-2-2zM9 17H7v-7h2v7zm4 0h-2V7h2v10zm4 0h-2v-4h2v4z\"/>\n",
              "    </g>\n",
              "</svg>\n",
              "  </button>\n",
              "\n",
              "<style>\n",
              "  .colab-df-quickchart {\n",
              "      --bg-color: #E8F0FE;\n",
              "      --fill-color: #1967D2;\n",
              "      --hover-bg-color: #E2EBFA;\n",
              "      --hover-fill-color: #174EA6;\n",
              "      --disabled-fill-color: #AAA;\n",
              "      --disabled-bg-color: #DDD;\n",
              "  }\n",
              "\n",
              "  [theme=dark] .colab-df-quickchart {\n",
              "      --bg-color: #3B4455;\n",
              "      --fill-color: #D2E3FC;\n",
              "      --hover-bg-color: #434B5C;\n",
              "      --hover-fill-color: #FFFFFF;\n",
              "      --disabled-bg-color: #3B4455;\n",
              "      --disabled-fill-color: #666;\n",
              "  }\n",
              "\n",
              "  .colab-df-quickchart {\n",
              "    background-color: var(--bg-color);\n",
              "    border: none;\n",
              "    border-radius: 50%;\n",
              "    cursor: pointer;\n",
              "    display: none;\n",
              "    fill: var(--fill-color);\n",
              "    height: 32px;\n",
              "    padding: 0;\n",
              "    width: 32px;\n",
              "  }\n",
              "\n",
              "  .colab-df-quickchart:hover {\n",
              "    background-color: var(--hover-bg-color);\n",
              "    box-shadow: 0 1px 2px rgba(60, 64, 67, 0.3), 0 1px 3px 1px rgba(60, 64, 67, 0.15);\n",
              "    fill: var(--button-hover-fill-color);\n",
              "  }\n",
              "\n",
              "  .colab-df-quickchart-complete:disabled,\n",
              "  .colab-df-quickchart-complete:disabled:hover {\n",
              "    background-color: var(--disabled-bg-color);\n",
              "    fill: var(--disabled-fill-color);\n",
              "    box-shadow: none;\n",
              "  }\n",
              "\n",
              "  .colab-df-spinner {\n",
              "    border: 2px solid var(--fill-color);\n",
              "    border-color: transparent;\n",
              "    border-bottom-color: var(--fill-color);\n",
              "    animation:\n",
              "      spin 1s steps(1) infinite;\n",
              "  }\n",
              "\n",
              "  @keyframes spin {\n",
              "    0% {\n",
              "      border-color: transparent;\n",
              "      border-bottom-color: var(--fill-color);\n",
              "      border-left-color: var(--fill-color);\n",
              "    }\n",
              "    20% {\n",
              "      border-color: transparent;\n",
              "      border-left-color: var(--fill-color);\n",
              "      border-top-color: var(--fill-color);\n",
              "    }\n",
              "    30% {\n",
              "      border-color: transparent;\n",
              "      border-left-color: var(--fill-color);\n",
              "      border-top-color: var(--fill-color);\n",
              "      border-right-color: var(--fill-color);\n",
              "    }\n",
              "    40% {\n",
              "      border-color: transparent;\n",
              "      border-right-color: var(--fill-color);\n",
              "      border-top-color: var(--fill-color);\n",
              "    }\n",
              "    60% {\n",
              "      border-color: transparent;\n",
              "      border-right-color: var(--fill-color);\n",
              "    }\n",
              "    80% {\n",
              "      border-color: transparent;\n",
              "      border-right-color: var(--fill-color);\n",
              "      border-bottom-color: var(--fill-color);\n",
              "    }\n",
              "    90% {\n",
              "      border-color: transparent;\n",
              "      border-bottom-color: var(--fill-color);\n",
              "    }\n",
              "  }\n",
              "</style>\n",
              "\n",
              "  <script>\n",
              "    async function quickchart(key) {\n",
              "      const quickchartButtonEl =\n",
              "        document.querySelector('#' + key + ' button');\n",
              "      quickchartButtonEl.disabled = true;  // To prevent multiple clicks.\n",
              "      quickchartButtonEl.classList.add('colab-df-spinner');\n",
              "      try {\n",
              "        const charts = await google.colab.kernel.invokeFunction(\n",
              "            'suggestCharts', [key], {});\n",
              "      } catch (error) {\n",
              "        console.error('Error during call to suggestCharts:', error);\n",
              "      }\n",
              "      quickchartButtonEl.classList.remove('colab-df-spinner');\n",
              "      quickchartButtonEl.classList.add('colab-df-quickchart-complete');\n",
              "    }\n",
              "    (() => {\n",
              "      let quickchartButtonEl =\n",
              "        document.querySelector('#df-e0168f5a-2fe2-405f-9e90-c9550b8ae1af button');\n",
              "      quickchartButtonEl.style.display =\n",
              "        google.colab.kernel.accessAllowed ? 'block' : 'none';\n",
              "    })();\n",
              "  </script>\n",
              "</div>\n",
              "\n",
              "    </div>\n",
              "  </div>\n"
            ],
            "application/vnd.google.colaboratory.intrinsic+json": {
              "type": "dataframe",
              "variable_name": "df",
              "summary": "{\n  \"name\": \"df\",\n  \"rows\": 258,\n  \"fields\": [\n    {\n      \"column\": \"Timestamp\",\n      \"properties\": {\n        \"dtype\": \"date\",\n        \"min\": \"2023-03-31 19:59:11.443000\",\n        \"max\": \"2024-01-25 14:51:10.920000\",\n        \"num_unique_values\": 258,\n        \"samples\": [\n          \"2023-04-06 09:13:17.786000\",\n          \"2023-04-05 19:04:02.668000\",\n          \"2023-03-31 21:24:04.961000\"\n        ],\n        \"semantic_type\": \"\",\n        \"description\": \"\"\n      }\n    },\n    {\n      \"column\": \"On a scale from 1 to 5, how would you rate your knowledge and understanding of Artificial Intelligence (AI)?\",\n      \"properties\": {\n        \"dtype\": \"number\",\n        \"std\": 0,\n        \"min\": 1,\n        \"max\": 5,\n        \"num_unique_values\": 5,\n        \"samples\": [\n          4,\n          1,\n          3\n        ],\n        \"semantic_type\": \"\",\n        \"description\": \"\"\n      }\n    },\n    {\n      \"column\": \"On a scale from 1 to 5, how often do you use Artificial Intelligence (AI) for personal use?\",\n      \"properties\": {\n        \"dtype\": \"number\",\n        \"std\": 1,\n        \"min\": 1,\n        \"max\": 5,\n        \"num_unique_values\": 5,\n        \"samples\": [\n          3,\n          4,\n          2\n        ],\n        \"semantic_type\": \"\",\n        \"description\": \"\"\n      }\n    },\n    {\n      \"column\": \"On a scale from 1 to 5, how often do you use Artificial Intelligence (AI) for school-related tasks?\",\n      \"properties\": {\n        \"dtype\": \"number\",\n        \"std\": 1,\n        \"min\": 1,\n        \"max\": 5,\n        \"num_unique_values\": 5,\n        \"samples\": [\n          4,\n          2,\n          1\n        ],\n        \"semantic_type\": \"\",\n        \"description\": \"\"\n      }\n    },\n    {\n      \"column\": \"On a scale from 1 to 5, how interested are you in pursuing a career in Artificial Intelligence?\",\n      \"properties\": {\n        \"dtype\": \"number\",\n        \"std\": 1,\n        \"min\": 1,\n        \"max\": 5,\n        \"num_unique_values\": 5,\n        \"samples\": [\n          4,\n          3,\n          1\n        ],\n        \"semantic_type\": \"\",\n        \"description\": \"\"\n      }\n    },\n    {\n      \"column\": \"Do you know what Chat-GPT is?\",\n      \"properties\": {\n        \"dtype\": \"category\",\n        \"num_unique_values\": 2,\n        \"samples\": [\n          \"No\",\n          \"Yes\"\n        ],\n        \"semantic_type\": \"\",\n        \"description\": \"\"\n      }\n    },\n    {\n      \"column\": \"What college are you in?\",\n      \"properties\": {\n        \"dtype\": \"category\",\n        \"num_unique_values\": 10,\n        \"samples\": [\n          \"Can you email Robert.loy@gcu.edu\",\n          \"Business\"\n        ],\n        \"semantic_type\": \"\",\n        \"description\": \"\"\n      }\n    }\n  ]\n}"
            }
          },
          "metadata": {},
          "execution_count": 2
        }
      ]
    },
    {
      "cell_type": "code",
      "source": [
        "df.info()"
      ],
      "metadata": {
        "colab": {
          "base_uri": "https://localhost:8080/"
        },
        "id": "qMc7Q3Xb6OwA",
        "outputId": "1a92d20e-c5fc-4e24-9fc1-37557f7f7a8f"
      },
      "execution_count": null,
      "outputs": [
        {
          "output_type": "stream",
          "name": "stdout",
          "text": [
            "<class 'pandas.core.frame.DataFrame'>\n",
            "RangeIndex: 258 entries, 0 to 257\n",
            "Data columns (total 7 columns):\n",
            " #   Column                                                                                                        Non-Null Count  Dtype         \n",
            "---  ------                                                                                                        --------------  -----         \n",
            " 0   Timestamp                                                                                                     258 non-null    datetime64[ns]\n",
            " 1   On a scale from 1 to 5, how would you rate your knowledge and understanding of Artificial Intelligence (AI)?  258 non-null    int64         \n",
            " 2   On a scale from 1 to 5, how often do you use Artificial Intelligence (AI) for personal use?                   258 non-null    int64         \n",
            " 3   On a scale from 1 to 5, how often do you use Artificial Intelligence (AI) for school-related tasks?           258 non-null    int64         \n",
            " 4   On a scale from 1 to 5, how interested are you in pursuing a career in Artificial Intelligence?               258 non-null    int64         \n",
            " 5   Do you know what Chat-GPT is?                                                                                 258 non-null    object        \n",
            " 6   What college are you in?                                                                                      258 non-null    object        \n",
            "dtypes: datetime64[ns](1), int64(4), object(2)\n",
            "memory usage: 14.2+ KB\n"
          ]
        }
      ]
    },
    {
      "cell_type": "markdown",
      "source": [
        "LIMPIEZA DE DATOS"
      ],
      "metadata": {
        "id": "TA66sySmfTv0"
      }
    },
    {
      "cell_type": "code",
      "source": [
        "# elimina la columna'Timestamp'\n",
        "df = df.drop('Timestamp', axis=1)"
      ],
      "metadata": {
        "id": "-8hqjS6n6TqQ"
      },
      "execution_count": null,
      "outputs": []
    },
    {
      "cell_type": "code",
      "source": [
        "# Cambia el nombre de las columnas 1-5 a Q1-Q5\n",
        "df = df.rename(columns={\n",
        "    'On a scale from 1 to 5, how would you rate your knowledge and understanding of Artificial Intelligence (AI)?': 'Q1',\n",
        "    'On a scale from 1 to 5, how often do you use Artificial Intelligence (AI) for personal use?': 'Q2',\n",
        "    'On a scale from 1 to 5, how often do you use Artificial Intelligence (AI) for school-related tasks?': 'Q3',\n",
        "    'On a scale from 1 to 5, how interested are you in pursuing a career in Artificial Intelligence?': 'Q4',\n",
        "    'Do you know what Chat-GPT is?': 'Q5',\n",
        "    'What college are you in?': 'Target'\n",
        "})"
      ],
      "metadata": {
        "id": "NmYmtZCO6Xyh"
      },
      "execution_count": null,
      "outputs": []
    },
    {
      "cell_type": "code",
      "source": [
        "import seaborn as sns\n",
        "import matplotlib.pyplot as plt\n",
        "\n",
        "sns.countplot(x='Target', data=df)\n",
        "plt.title('Distribution of Target Column')\n",
        "plt.show()"
      ],
      "metadata": {
        "colab": {
          "base_uri": "https://localhost:8080/",
          "height": 472
        },
        "id": "q84Njw_X6jVe",
        "outputId": "ca91f4c3-f8d4-4f26-f370-7f91b8f3d879"
      },
      "execution_count": null,
      "outputs": [
        {
          "output_type": "display_data",
          "data": {
            "text/plain": [
              "<Figure size 640x480 with 1 Axes>"
            ],
            "image/png": "[encoded data removed]"
          },
          "metadata": {}
        }
      ]
    },
    {
      "cell_type": "code",
      "source": [
        "unique_values = df['Target'].unique()\n",
        "print(\"Unique values in the 'Target' column:\", unique_values)"
      ],
      "metadata": {
        "colab": {
          "base_uri": "https://localhost:8080/"
        },
        "id": "p2PV4_pJ6mo7",
        "outputId": "2c6bd5a1-c182-4084-e855-fd04f1fe29fa"
      },
      "execution_count": null,
      "outputs": [
        {
          "output_type": "stream",
          "name": "stdout",
          "text": [
            "Unique values in the 'Target' column: ['Science, Engineering, & Technology' 'Business'\n",
            " 'Humanities & Social Sciences' 'Nursing & Health Care' 'Arts & Media'\n",
            " 'Theology' 'Education' 'Business and education'\n",
            " 'Can you email Robert.loy@gcu.edu' 'CreamAToligy']\n"
          ]
        }
      ]
    },
    {
      "cell_type": "code",
      "source": [
        "# Eliminar filas con valores de 'Objetivo' no válidos especificados\n",
        "invalid_values = ['CreamAToligy', 'Can you email Robert.loy@gcu.edu']\n",
        "df = df[~df['Target'].isin(invalid_values)]\n",
        "\n",
        "# Verifique los valores únicos nuevamente para confirmar\n",
        "unique_values = df['Target'].unique()\n",
        "print(\"Unique values in the 'Target' column after cleaning:\", unique_values)"
      ],
      "metadata": {
        "colab": {
          "base_uri": "https://localhost:8080/"
        },
        "id": "5_Xo4ZSq6qFw",
        "outputId": "86732722-ae2d-4e65-a952-e209eb955282"
      },
      "execution_count": null,
      "outputs": [
        {
          "output_type": "stream",
          "name": "stdout",
          "text": [
            "Unique values in the 'Target' column after cleaning: ['Science, Engineering, & Technology' 'Business'\n",
            " 'Humanities & Social Sciences' 'Nursing & Health Care' 'Arts & Media'\n",
            " 'Theology' 'Education' 'Business and education']\n"
          ]
        }
      ]
    },
    {
      "cell_type": "code",
      "source": [
        "#Resultado despues del ajuste\n",
        "\n",
        "sns.countplot(x='Target', data=df)\n",
        "plt.title('Distribution of Target Column')\n",
        "plt.show()"
      ],
      "metadata": {
        "colab": {
          "base_uri": "https://localhost:8080/",
          "height": 472
        },
        "id": "uT6cixVr6tMX",
        "outputId": "a7fe8f51-39b8-4abc-a772-25a6b76e9a6b"
      },
      "execution_count": null,
      "outputs": [
        {
          "output_type": "display_data",
          "data": {
            "text/plain": [
              "<Figure size 640x480 with 1 Axes>"
            ],
            "image/png": "[encoded data removed]"
          },
          "metadata": {}
        }
      ]
    },
    {
      "cell_type": "code",
      "source": [
        "target_counts = df['Target'].value_counts()\n",
        "\n",
        "print(\"Total count for each unique value in the 'Target' column:\")\n",
        "print(target_counts)"
      ],
      "metadata": {
        "colab": {
          "base_uri": "https://localhost:8080/"
        },
        "id": "UGRtyYyT6x2f",
        "outputId": "ee37036e-444c-4a3a-c3e4-4082f0d965f5"
      },
      "execution_count": null,
      "outputs": [
        {
          "output_type": "stream",
          "name": "stdout",
          "text": [
            "Total count for each unique value in the 'Target' column:\n",
            "Target\n",
            "Science, Engineering, & Technology    103\n",
            "Business                               65\n",
            "Humanities & Social Sciences           39\n",
            "Nursing & Health Care                  16\n",
            "Education                              13\n",
            "Arts & Media                           12\n",
            "Theology                                7\n",
            "Business and education                  1\n",
            "Name: count, dtype: int64\n"
          ]
        }
      ]
    },
    {
      "cell_type": "code",
      "source": [
        "# Combine 'Negocios y educación' con 'Negocios'\n",
        "df['Target'] = df['Target'].replace('Business and education', 'Business')\n",
        "\n",
        "# Verifique los valores únicos y sus recuentos nuevamente\n",
        "target_counts = df['Target'].value_counts()\n",
        "print(\"Total count for each unique value in the 'Target' column after combining 'Business and education':\")\n",
        "print(target_counts)"
      ],
      "metadata": {
        "colab": {
          "base_uri": "https://localhost:8080/"
        },
        "id": "o2s5V7gr63CH",
        "outputId": "e7d72227-1179-4e4f-fde0-8633dbc49792"
      },
      "execution_count": null,
      "outputs": [
        {
          "output_type": "stream",
          "name": "stdout",
          "text": [
            "Total count for each unique value in the 'Target' column after combining 'Business and education':\n",
            "Target\n",
            "Science, Engineering, & Technology    103\n",
            "Business                               66\n",
            "Humanities & Social Sciences           39\n",
            "Nursing & Health Care                  16\n",
            "Education                              13\n",
            "Arts & Media                           12\n",
            "Theology                                7\n",
            "Name: count, dtype: int64\n"
          ]
        }
      ]
    },
    {
      "cell_type": "code",
      "source": [
        "#Resultado despues del ajuste\n",
        "\n",
        "sns.countplot(x='Target', data=df)\n",
        "plt.title('Distribution of Target Column')\n",
        "plt.show()"
      ],
      "metadata": {
        "colab": {
          "base_uri": "https://localhost:8080/",
          "height": 472
        },
        "id": "Z9cM7ZB166yO",
        "outputId": "c0397bea-fc85-45b9-ea02-be0247f88243"
      },
      "execution_count": null,
      "outputs": [
        {
          "output_type": "display_data",
          "data": {
            "text/plain": [
              "<Figure size 640x480 with 1 Axes>"
            ],
            "image/png": "[encoded data removed]"
          },
          "metadata": {}
        }
      ]
    },
    {
      "cell_type": "code",
      "source": [
        "from sklearn.preprocessing import LabelEncoder\n",
        "# Codificar la variable de destino\n",
        "label_encoder = LabelEncoder()\n",
        "df['Target_encoded'] = label_encoder.fit_transform(df['Target'])"
      ],
      "metadata": {
        "id": "GfLrgpZu6-M3"
      },
      "execution_count": null,
      "outputs": []
    },
    {
      "cell_type": "code",
      "source": [
        "# Visualice la distribución de la variable de destino codificada.\n",
        "sns.countplot(x='Target_encoded', data=df)\n",
        "plt.title('Distribution of Encoded Target Column')\n",
        "plt.show()"
      ],
      "metadata": {
        "colab": {
          "base_uri": "https://localhost:8080/",
          "height": 472
        },
        "id": "nPfC7q3U7Jhl",
        "outputId": "d5d81727-b81f-4de2-c008-2399f01ce76c"
      },
      "execution_count": null,
      "outputs": [
        {
          "output_type": "display_data",
          "data": {
            "text/plain": [
              "<Figure size 640x480 with 1 Axes>"
            ],
            "image/png": "[encoded data removed]"
          },
          "metadata": {}
        }
      ]
    },
    {
      "cell_type": "code",
      "source": [
        "# Convierta 'Q5' a valores binarios (1 para 'Sí', 0 para 'No')\n",
        "df['Q5'] = df['Q5'].map({'Yes': 1, 'No': 0})"
      ],
      "metadata": {
        "id": "nkKYCj_47Ls4"
      },
      "execution_count": null,
      "outputs": []
    },
    {
      "cell_type": "code",
      "source": [
        "#comprobar los datos después del preprocesamiento\n",
        "df.head()"
      ],
      "metadata": {
        "colab": {
          "base_uri": "https://localhost:8080/",
          "height": 206
        },
        "id": "LPXxQr6s7O8J",
        "outputId": "920bd66c-ed80-4121-fe57-6c42d372b1f4"
      },
      "execution_count": null,
      "outputs": [
        {
          "output_type": "execute_result",
          "data": {
            "text/plain": [
              "   Q1  Q2  Q3  Q4  Q5                              Target  Target_encoded\n",
              "0   5   5   5   5   1  Science, Engineering, & Technology               5\n",
              "1   4   3   4   4   1  Science, Engineering, & Technology               5\n",
              "2   3   3   5   1   0                            Business               1\n",
              "3   4   3   5   2   1                            Business               1\n",
              "4   5   2   1   5   1        Humanities & Social Sciences               3"
            ],
            "text/html": [
              "\n",
              "  <div id=\"df-b2de0281-36df-4403-9890-3e4429d7168c\" class=\"colab-df-container\">\n",
              "    <div>\n",
              "<style scoped>\n",
              "    .dataframe tbody tr th:only-of-type {\n",
              "        vertical-align: middle;\n",
              "    }\n",
              "\n",
              "    .dataframe tbody tr th {\n",
              "        vertical-align: top;\n",
              "    }\n",
              "\n",
              "    .dataframe thead th {\n",
              "        text-align: right;\n",
              "    }\n",
              "</style>\n",
              "<table border=\"1\" class=\"dataframe\">\n",
              "  <thead>\n",
              "    <tr style=\"text-align: right;\">\n",
              "      <th></th>\n",
              "      <th>Q1</th>\n",
              "      <th>Q2</th>\n",
              "      <th>Q3</th>\n",
              "      <th>Q4</th>\n",
              "      <th>Q5</th>\n",
              "      <th>Target</th>\n",
              "      <th>Target_encoded</th>\n",
              "    </tr>\n",
              "  </thead>\n",
              "  <tbody>\n",
              "    <tr>\n",
              "      <th>0</th>\n",
              "      <td>5</td>\n",
              "      <td>5</td>\n",
              "      <td>5</td>\n",
              "      <td>5</td>\n",
              "      <td>1</td>\n",
              "      <td>Science, Engineering, &amp; Technology</td>\n",
              "      <td>5</td>\n",
              "    </tr>\n",
              "    <tr>\n",
              "      <th>1</th>\n",
              "      <td>4</td>\n",
              "      <td>3</td>\n",
              "      <td>4</td>\n",
              "      <td>4</td>\n",
              "      <td>1</td>\n",
              "      <td>Science, Engineering, &amp; Technology</td>\n",
              "      <td>5</td>\n",
              "    </tr>\n",
              "    <tr>\n",
              "      <th>2</th>\n",
              "      <td>3</td>\n",
              "      <td>3</td>\n",
              "      <td>5</td>\n",
              "      <td>1</td>\n",
              "      <td>0</td>\n",
              "      <td>Business</td>\n",
              "      <td>1</td>\n",
              "    </tr>\n",
              "    <tr>\n",
              "      <th>3</th>\n",
              "      <td>4</td>\n",
              "      <td>3</td>\n",
              "      <td>5</td>\n",
              "      <td>2</td>\n",
              "      <td>1</td>\n",
              "      <td>Business</td>\n",
              "      <td>1</td>\n",
              "    </tr>\n",
              "    <tr>\n",
              "      <th>4</th>\n",
              "      <td>5</td>\n",
              "      <td>2</td>\n",
              "      <td>1</td>\n",
              "      <td>5</td>\n",
              "      <td>1</td>\n",
              "      <td>Humanities &amp; Social Sciences</td>\n",
              "      <td>3</td>\n",
              "    </tr>\n",
              "  </tbody>\n",
              "</table>\n",
              "</div>\n",
              "    <div class=\"colab-df-buttons\">\n",
              "\n",
              "  <div class=\"colab-df-container\">\n",
              "    <button class=\"colab-df-convert\" onclick=\"convertToInteractive('df-b2de0281-36df-4403-9890-3e4429d7168c')\"\n",
              "            title=\"Convert this dataframe to an interactive table.\"\n",
              "            style=\"display:none;\">\n",
              "\n",
              "  <svg xmlns=\"http://www.w3.org/2000/svg\" height=\"24px\" viewBox=\"0 -960 960 960\">\n",
              "    <path d=\"M120-120v-720h720v720H120Zm60-500h600v-160H180v160Zm220 220h160v-160H400v160Zm0 220h160v-160H400v160ZM180-400h160v-160H180v160Zm440 0h160v-160H620v160ZM180-180h160v-160H180v160Zm440 0h160v-160H620v160Z\"/>\n",
              "  </svg>\n",
              "    </button>\n",
              "\n",
              "  <style>\n",
              "    .colab-df-container {\n",
              "      display:flex;\n",
              "      gap: 12px;\n",
              "    }\n",
              "\n",
              "    .colab-df-convert {\n",
              "      background-color: #E8F0FE;\n",
              "      border: none;\n",
              "      border-radius: 50%;\n",
              "      cursor: pointer;\n",
              "      display: none;\n",
              "      fill: #1967D2;\n",
              "      height: 32px;\n",
              "      padding: 0 0 0 0;\n",
              "      width: 32px;\n",
              "    }\n",
              "\n",
              "    .colab-df-convert:hover {\n",
              "      background-color: #E2EBFA;\n",
              "      box-shadow: 0px 1px 2px rgba(60, 64, 67, 0.3), 0px 1px 3px 1px rgba(60, 64, 67, 0.15);\n",
              "      fill: #174EA6;\n",
              "    }\n",
              "\n",
              "    .colab-df-buttons div {\n",
              "      margin-bottom: 4px;\n",
              "    }\n",
              "\n",
              "    [theme=dark] .colab-df-convert {\n",
              "      background-color: #3B4455;\n",
              "      fill: #D2E3FC;\n",
              "    }\n",
              "\n",
              "    [theme=dark] .colab-df-convert:hover {\n",
              "      background-color: #434B5C;\n",
              "      box-shadow: 0px 1px 3px 1px rgba(0, 0, 0, 0.15);\n",
              "      filter: drop-shadow(0px 1px 2px rgba(0, 0, 0, 0.3));\n",
              "      fill: #FFFFFF;\n",
              "    }\n",
              "  </style>\n",
              "\n",
              "    <script>\n",
              "      const buttonEl =\n",
              "        document.querySelector('#df-b2de0281-36df-4403-9890-3e4429d7168c button.colab-df-convert');\n",
              "      buttonEl.style.display =\n",
              "        google.colab.kernel.accessAllowed ? 'block' : 'none';\n",
              "\n",
              "      async function convertToInteractive(key) {\n",
              "        const element = document.querySelector('#df-b2de0281-36df-4403-9890-3e4429d7168c');\n",
              "        const dataTable =\n",
              "          await google.colab.kernel.invokeFunction('convertToInteractive',\n",
              "                                                    [key], {});\n",
              "        if (!dataTable) return;\n",
              "\n",
              "        const docLinkHtml = 'Like what you see? Visit the ' +\n",
              "          '<a target=\"_blank\" href=https://colab.research.google.com/notebooks/data_table.ipynb>data table notebook</a>'\n",
              "          + ' to learn more about interactive tables.';\n",
              "        element.innerHTML = '';\n",
              "        dataTable['output_type'] = 'display_data';\n",
              "        await google.colab.output.renderOutput(dataTable, element);\n",
              "        const docLink = document.createElement('div');\n",
              "        docLink.innerHTML = docLinkHtml;\n",
              "        element.appendChild(docLink);\n",
              "      }\n",
              "    </script>\n",
              "  </div>\n",
              "\n",
              "\n",
              "<div id=\"df-bd9fdcd8-217d-4398-8f00-e252421e4bcb\">\n",
              "  <button class=\"colab-df-quickchart\" onclick=\"quickchart('df-bd9fdcd8-217d-4398-8f00-e252421e4bcb')\"\n",
              "            title=\"Suggest charts\"\n",
              "            style=\"display:none;\">\n",
              "\n",
              "<svg xmlns=\"http://www.w3.org/2000/svg\" height=\"24px\"viewBox=\"0 0 24 24\"\n",
              "     width=\"24px\">\n",
              "    <g>\n",
              "        <path d=\"M19 3H5c-1.1 0-2 .9-2 2v14c0 1.1.9 2 2 2h14c1.1 0 2-.9 2-2V5c0-1.1-.9-2-2-2zM9 17H7v-7h2v7zm4 0h-2V7h2v10zm4 0h-2v-4h2v4z\"/>\n",
              "    </g>\n",
              "</svg>\n",
              "  </button>\n",
              "\n",
              "<style>\n",
              "  .colab-df-quickchart {\n",
              "      --bg-color: #E8F0FE;\n",
              "      --fill-color: #1967D2;\n",
              "      --hover-bg-color: #E2EBFA;\n",
              "      --hover-fill-color: #174EA6;\n",
              "      --disabled-fill-color: #AAA;\n",
              "      --disabled-bg-color: #DDD;\n",
              "  }\n",
              "\n",
              "  [theme=dark] .colab-df-quickchart {\n",
              "      --bg-color: #3B4455;\n",
              "      --fill-color: #D2E3FC;\n",
              "      --hover-bg-color: #434B5C;\n",
              "      --hover-fill-color: #FFFFFF;\n",
              "      --disabled-bg-color: #3B4455;\n",
              "      --disabled-fill-color: #666;\n",
              "  }\n",
              "\n",
              "  .colab-df-quickchart {\n",
              "    background-color: var(--bg-color);\n",
              "    border: none;\n",
              "    border-radius: 50%;\n",
              "    cursor: pointer;\n",
              "    display: none;\n",
              "    fill: var(--fill-color);\n",
              "    height: 32px;\n",
              "    padding: 0;\n",
              "    width: 32px;\n",
              "  }\n",
              "\n",
              "  .colab-df-quickchart:hover {\n",
              "    background-color: var(--hover-bg-color);\n",
              "    box-shadow: 0 1px 2px rgba(60, 64, 67, 0.3), 0 1px 3px 1px rgba(60, 64, 67, 0.15);\n",
              "    fill: var(--button-hover-fill-color);\n",
              "  }\n",
              "\n",
              "  .colab-df-quickchart-complete:disabled,\n",
              "  .colab-df-quickchart-complete:disabled:hover {\n",
              "    background-color: var(--disabled-bg-color);\n",
              "    fill: var(--disabled-fill-color);\n",
              "    box-shadow: none;\n",
              "  }\n",
              "\n",
              "  .colab-df-spinner {\n",
              "    border: 2px solid var(--fill-color);\n",
              "    border-color: transparent;\n",
              "    border-bottom-color: var(--fill-color);\n",
              "    animation:\n",
              "      spin 1s steps(1) infinite;\n",
              "  }\n",
              "\n",
              "  @keyframes spin {\n",
              "    0% {\n",
              "      border-color: transparent;\n",
              "      border-bottom-color: var(--fill-color);\n",
              "      border-left-color: var(--fill-color);\n",
              "    }\n",
              "    20% {\n",
              "      border-color: transparent;\n",
              "      border-left-color: var(--fill-color);\n",
              "      border-top-color: var(--fill-color);\n",
              "    }\n",
              "    30% {\n",
              "      border-color: transparent;\n",
              "      border-left-color: var(--fill-color);\n",
              "      border-top-color: var(--fill-color);\n",
              "      border-right-color: var(--fill-color);\n",
              "    }\n",
              "    40% {\n",
              "      border-color: transparent;\n",
              "      border-right-color: var(--fill-color);\n",
              "      border-top-color: var(--fill-color);\n",
              "    }\n",
              "    60% {\n",
              "      border-color: transparent;\n",
              "      border-right-color: var(--fill-color);\n",
              "    }\n",
              "    80% {\n",
              "      border-color: transparent;\n",
              "      border-right-color: var(--fill-color);\n",
              "      border-bottom-color: var(--fill-color);\n",
              "    }\n",
              "    90% {\n",
              "      border-color: transparent;\n",
              "      border-bottom-color: var(--fill-color);\n",
              "    }\n",
              "  }\n",
              "</style>\n",
              "\n",
              "  <script>\n",
              "    async function quickchart(key) {\n",
              "      const quickchartButtonEl =\n",
              "        document.querySelector('#' + key + ' button');\n",
              "      quickchartButtonEl.disabled = true;  // To prevent multiple clicks.\n",
              "      quickchartButtonEl.classList.add('colab-df-spinner');\n",
              "      try {\n",
              "        const charts = await google.colab.kernel.invokeFunction(\n",
              "            'suggestCharts', [key], {});\n",
              "      } catch (error) {\n",
              "        console.error('Error during call to suggestCharts:', error);\n",
              "      }\n",
              "      quickchartButtonEl.classList.remove('colab-df-spinner');\n",
              "      quickchartButtonEl.classList.add('colab-df-quickchart-complete');\n",
              "    }\n",
              "    (() => {\n",
              "      let quickchartButtonEl =\n",
              "        document.querySelector('#df-bd9fdcd8-217d-4398-8f00-e252421e4bcb button');\n",
              "      quickchartButtonEl.style.display =\n",
              "        google.colab.kernel.accessAllowed ? 'block' : 'none';\n",
              "    })();\n",
              "  </script>\n",
              "</div>\n",
              "\n",
              "    </div>\n",
              "  </div>\n"
            ],
            "application/vnd.google.colaboratory.intrinsic+json": {
              "type": "dataframe",
              "variable_name": "df",
              "summary": "{\n  \"name\": \"df\",\n  \"rows\": 256,\n  \"fields\": [\n    {\n      \"column\": \"Q1\",\n      \"properties\": {\n        \"dtype\": \"number\",\n        \"std\": 0,\n        \"min\": 1,\n        \"max\": 5,\n        \"num_unique_values\": 5,\n        \"samples\": [\n          4,\n          1,\n          3\n        ],\n        \"semantic_type\": \"\",\n        \"description\": \"\"\n      }\n    },\n    {\n      \"column\": \"Q2\",\n      \"properties\": {\n        \"dtype\": \"number\",\n        \"std\": 1,\n        \"min\": 1,\n        \"max\": 5,\n        \"num_unique_values\": 5,\n        \"samples\": [\n          3,\n          4,\n          2\n        ],\n        \"semantic_type\": \"\",\n        \"description\": \"\"\n      }\n    },\n    {\n      \"column\": \"Q3\",\n      \"properties\": {\n        \"dtype\": \"number\",\n        \"std\": 1,\n        \"min\": 1,\n        \"max\": 5,\n        \"num_unique_values\": 5,\n        \"samples\": [\n          4,\n          2,\n          1\n        ],\n        \"semantic_type\": \"\",\n        \"description\": \"\"\n      }\n    },\n    {\n      \"column\": \"Q4\",\n      \"properties\": {\n        \"dtype\": \"number\",\n        \"std\": 1,\n        \"min\": 1,\n        \"max\": 5,\n        \"num_unique_values\": 5,\n        \"samples\": [\n          4,\n          3,\n          1\n        ],\n        \"semantic_type\": \"\",\n        \"description\": \"\"\n      }\n    },\n    {\n      \"column\": \"Q5\",\n      \"properties\": {\n        \"dtype\": \"number\",\n        \"std\": 0,\n        \"min\": 0,\n        \"max\": 1,\n        \"num_unique_values\": 2,\n        \"samples\": [\n          0,\n          1\n        ],\n        \"semantic_type\": \"\",\n        \"description\": \"\"\n      }\n    },\n    {\n      \"column\": \"Target\",\n      \"properties\": {\n        \"dtype\": \"category\",\n        \"num_unique_values\": 7,\n        \"samples\": [\n          \"Science, Engineering, & Technology\",\n          \"Business\"\n        ],\n        \"semantic_type\": \"\",\n        \"description\": \"\"\n      }\n    },\n    {\n      \"column\": \"Target_encoded\",\n      \"properties\": {\n        \"dtype\": \"number\",\n        \"std\": 1,\n        \"min\": 0,\n        \"max\": 6,\n        \"num_unique_values\": 7,\n        \"samples\": [\n          5,\n          1\n        ],\n        \"semantic_type\": \"\",\n        \"description\": \"\"\n      }\n    }\n  ]\n}"
            }
          },
          "metadata": {},
          "execution_count": 19
        }
      ]
    },
    {
      "cell_type": "code",
      "source": [
        "from sklearn.model_selection import train_test_split, GridSearchCV\n",
        "from sklearn.ensemble import RandomForestClassifier\n",
        "from sklearn.metrics import accuracy_score, classification_report\n",
        "from imblearn.over_sampling import RandomOverSampler\n",
        "\n",
        "\n",
        "# Definir características (X) y variable objetivo (y)\n",
        "X = df[['Q1', 'Q2', 'Q3', 'Q4', 'Q5']]\n",
        "y = df['Target_encoded']\n",
        "\n",
        "# Divida el conjunto de datos en conjuntos de entrenamiento y prueba.\n",
        "X_train, X_test, y_train, y_test = train_test_split(X, y, test_size=0.5, random_state=42)"
      ],
      "metadata": {
        "id": "YwziLZhm7cCM"
      },
      "execution_count": null,
      "outputs": []
    },
    {
      "cell_type": "markdown",
      "source": [
        "RANDOM FOREST"
      ],
      "metadata": {
        "id": "yKw3ytkOdgTe"
      }
    },
    {
      "cell_type": "code",
      "source": [
        "# inicializamos oversampler\n",
        "oversampler = RandomOverSampler(random_state=42)\n",
        "\n",
        "# Aplicamos oversampling solo a clases minoritarias\n",
        "X_resampled, y_resampled = oversampler.fit_resample(X_train, y_train)"
      ],
      "metadata": {
        "id": "R2Bc6P257fvH"
      },
      "execution_count": null,
      "outputs": []
    },
    {
      "cell_type": "code",
      "source": [
        "# Definir los parametros de la cuadrilla\n",
        "param_grid = {\n",
        "    'n_estimators': [50, 100, 200],\n",
        "    'max_depth': [None, 10, 20, 30],\n",
        "    'min_samples_split': [2, 5, 10],\n",
        "    'min_samples_leaf': [1, 2, 4]\n",
        "}\n",
        "\n",
        "# Inicializamos Random Forest Classifier\n",
        "rf_model = RandomForestClassifier(random_state=42)\n",
        "\n",
        "# Inicializamos GridSearchCV\n",
        "grid_search = GridSearchCV(estimator=rf_model, param_grid=param_grid, cv=3, scoring='accuracy', n_jobs=-1)\n",
        "\n",
        "# Ajustar la búsqueda de cuadrícula a los datos.\n",
        "grid_search.fit(X_resampled, y_resampled)\n",
        "\n",
        "# Obtenga los mejores parámetros y el mejor estimador\n",
        "best_params = grid_search.best_params_\n",
        "best_model = grid_search.best_estimator_"
      ],
      "metadata": {
        "id": "3uptCdyb7inK"
      },
      "execution_count": null,
      "outputs": []
    },
    {
      "cell_type": "code",
      "source": [
        "# predicciones en el conjunto de prueba utilizando el mejor modelo.\n",
        "y_pred = best_model.predict(X_test)"
      ],
      "metadata": {
        "id": "7Qttkkdc7l9M"
      },
      "execution_count": null,
      "outputs": []
    },
    {
      "cell_type": "code",
      "source": [
        "# Evaluar el mejor modelo\n",
        "accuracy = accuracy_score(y_test, y_pred)\n",
        "classification_report_result = classification_report(y_test, y_pred)\n",
        "\n",
        "print(\"Best Parameters:\", best_params)\n",
        "print(f\"Accuracy with Best Model: {accuracy}\")\n",
        "print(f\"Classification Report:\\n{classification_report_result}\")"
      ],
      "metadata": {
        "colab": {
          "base_uri": "https://localhost:8080/"
        },
        "id": "EhdNdS0W8K09",
        "outputId": "7ec8bd8d-2cd0-4ca6-94f5-31f334d794aa"
      },
      "execution_count": null,
      "outputs": [
        {
          "output_type": "stream",
          "name": "stdout",
          "text": [
            "Best Parameters: {'max_depth': 10, 'min_samples_leaf': 1, 'min_samples_split': 2, 'n_estimators': 100}\n",
            "Accuracy with Best Model: 0.2265625\n",
            "Classification Report:\n",
            "              precision    recall  f1-score   support\n",
            "\n",
            "           0       0.00      0.00      0.00         4\n",
            "           1       0.37      0.17      0.24        40\n",
            "           2       0.00      0.00      0.00         9\n",
            "           3       0.15      0.11      0.12        19\n",
            "           4       0.10      0.12      0.11         8\n",
            "           5       0.41      0.39      0.40        46\n",
            "           6       0.04      0.50      0.07         2\n",
            "\n",
            "    accuracy                           0.23       128\n",
            "   macro avg       0.15      0.19      0.13       128\n",
            "weighted avg       0.29      0.23      0.24       128\n",
            "\n"
          ]
        }
      ]
    },
    {
      "cell_type": "markdown",
      "source": [
        "ARBOL DE DECISION"
      ],
      "metadata": {
        "id": "Kqig_y3u8V70"
      }
    },
    {
      "cell_type": "code",
      "source": [
        "# Define features (X) and target variable (y)\n",
        "X = df[['Q1', 'Q2', 'Q3', 'Q4', 'Q5']]\n",
        "y = df['Target_encoded']\n",
        "\n",
        "# Divida el conjunto de datos en conjuntos de entrenamiento y prueba.\n",
        "X_train, X_test, y_train, y_test = train_test_split(X, y, test_size=0.3, random_state=42)\n",
        "\n",
        "# Entrena el modelo de árbol de decisión\n",
        "model = DecisionTreeClassifier(random_state=42)\n",
        "model.fit(X_train, y_train)\n",
        "\n",
        "# Realiza predicciones en el conjunto de prueba\n",
        "y_pred = model.predict(X_test)\n",
        "\n",
        "# evaluacion del modelo\n",
        "print(\"Accuracy:\", accuracy_score(y_test, y_pred))\n",
        "print(\"\\nClassification Report:\\n\", classification_report(y_test, y_pred))\n",
        "print(\"\\nConfusion Matrix:\\n\", confusion_matrix(y_test, y_pred))"
      ],
      "metadata": {
        "colab": {
          "base_uri": "https://localhost:8080/"
        },
        "id": "O7cxGPiQ8X_6",
        "outputId": "97259b76-8bc3-4686-9af0-9b9bcc7cb3aa"
      },
      "execution_count": null,
      "outputs": [
        {
          "output_type": "stream",
          "name": "stdout",
          "text": [
            "Accuracy: 0.2597402597402597\n",
            "\n",
            "Classification Report:\n",
            "               precision    recall  f1-score   support\n",
            "\n",
            "           0       0.00      0.00      0.00         2\n",
            "           1       0.31      0.24      0.27        21\n",
            "           2       0.00      0.00      0.00         7\n",
            "           3       0.12      0.15      0.13        13\n",
            "           4       0.00      0.00      0.00         4\n",
            "           5       0.43      0.45      0.44        29\n",
            "           6       0.00      0.00      0.00         1\n",
            "\n",
            "    accuracy                           0.26        77\n",
            "   macro avg       0.12      0.12      0.12        77\n",
            "weighted avg       0.27      0.26      0.26        77\n",
            "\n",
            "\n",
            "Confusion Matrix:\n",
            " [[ 0  0  0  1  0  1  0]\n",
            " [ 1  5  4  5  2  4  0]\n",
            " [ 1  1  0  3  0  2  0]\n",
            " [ 3  0  0  2  0  8  0]\n",
            " [ 1  0  1  0  0  2  0]\n",
            " [ 1  9  0  6  0 13  0]\n",
            " [ 0  1  0  0  0  0  0]]\n"
          ]
        },
        {
          "output_type": "stream",
          "name": "stderr",
          "text": [
            "/usr/local/lib/python3.10/dist-packages/sklearn/metrics/_classification.py:1344: UndefinedMetricWarning: Precision and F-score are ill-defined and being set to 0.0 in labels with no predicted samples. Use `zero_division` parameter to control this behavior.\n",
            "  _warn_prf(average, modifier, msg_start, len(result))\n",
            "/usr/local/lib/python3.10/dist-packages/sklearn/metrics/_classification.py:1344: UndefinedMetricWarning: Precision and F-score are ill-defined and being set to 0.0 in labels with no predicted samples. Use `zero_division` parameter to control this behavior.\n",
            "  _warn_prf(average, modifier, msg_start, len(result))\n",
            "/usr/local/lib/python3.10/dist-packages/sklearn/metrics/_classification.py:1344: UndefinedMetricWarning: Precision and F-score are ill-defined and being set to 0.0 in labels with no predicted samples. Use `zero_division` parameter to control this behavior.\n",
            "  _warn_prf(average, modifier, msg_start, len(result))\n"
          ]
        }
      ]
    },
    {
      "cell_type": "markdown",
      "source": [
        "MAQUINA DE SOPORTE VECTORIAL"
      ],
      "metadata": {
        "id": "wwEt0yWK-6F3"
      }
    },
    {
      "cell_type": "code",
      "source": [
        "# Define features (X) and target variable (y)\n",
        "X = df[['Q1', 'Q2', 'Q3', 'Q4', 'Q5']]\n",
        "y = df['Target_encoded']\n",
        "\n",
        "# Split the dataset into training and testing sets\n",
        "X_train, X_test, y_train, y_test = train_test_split(X, y, test_size=0.2, random_state=42)\n",
        "\n",
        "# Inicializar el clasificador SVM\n",
        "svm_classifier = SVC()\n",
        "\n",
        "# Entrenar el clasificador SVM\n",
        "svm_classifier.fit(X_train, y_train)\n",
        "\n",
        "# Predecir en el conjunto de prueba\n",
        "y_pred = svm_classifier.predict(X_test)\n",
        "\n",
        "# Calcular la precisión del modelo\n",
        "accuracy = accuracy_score(y_test, y_pred)\n",
        "print(\"Accuracy:\", accuracy)\n",
        "\n",
        "# Imprimir el informe de clasificación\n",
        "print(\"\\nClassification Report:\")\n",
        "print(classification_report(y_test, y_pred))"
      ],
      "metadata": {
        "colab": {
          "base_uri": "https://localhost:8080/"
        },
        "id": "tF4jNQGt-2n9",
        "outputId": "1c90c827-2a8d-445e-dae8-008653f5468d"
      },
      "execution_count": null,
      "outputs": [
        {
          "output_type": "stream",
          "name": "stdout",
          "text": [
            "Accuracy: 0.3269230769230769\n",
            "\n",
            "Classification Report:\n",
            "              precision    recall  f1-score   support\n",
            "\n",
            "           0       0.00      0.00      0.00         2\n",
            "           1       0.50      0.12      0.19        17\n",
            "           2       0.00      0.00      0.00         4\n",
            "           3       0.00      0.00      0.00        10\n",
            "           4       0.00      0.00      0.00         2\n",
            "           5       0.31      0.94      0.47        16\n",
            "           6       0.00      0.00      0.00         1\n",
            "\n",
            "    accuracy                           0.33        52\n",
            "   macro avg       0.12      0.15      0.09        52\n",
            "weighted avg       0.26      0.33      0.21        52\n",
            "\n"
          ]
        },
        {
          "output_type": "stream",
          "name": "stderr",
          "text": [
            "/usr/local/lib/python3.10/dist-packages/sklearn/metrics/_classification.py:1344: UndefinedMetricWarning: Precision and F-score are ill-defined and being set to 0.0 in labels with no predicted samples. Use `zero_division` parameter to control this behavior.\n",
            "  _warn_prf(average, modifier, msg_start, len(result))\n",
            "/usr/local/lib/python3.10/dist-packages/sklearn/metrics/_classification.py:1344: UndefinedMetricWarning: Precision and F-score are ill-defined and being set to 0.0 in labels with no predicted samples. Use `zero_division` parameter to control this behavior.\n",
            "  _warn_prf(average, modifier, msg_start, len(result))\n",
            "/usr/local/lib/python3.10/dist-packages/sklearn/metrics/_classification.py:1344: UndefinedMetricWarning: Precision and F-score are ill-defined and being set to 0.0 in labels with no predicted samples. Use `zero_division` parameter to control this behavior.\n",
            "  _warn_prf(average, modifier, msg_start, len(result))\n"
          ]
        }
      ]
    },
    {
      "cell_type": "markdown",
      "source": [
        " Redes Neuronales Convolucionales"
      ],
      "metadata": {
        "id": "HAZYnsPdAYr9"
      }
    },
    {
      "cell_type": "code",
      "source": [
        "# Definir características (X) y variable objetivo (y)\n",
        "X = df[['Q1', 'Q2', 'Q3', 'Q4', 'Q5']]\n",
        "y = df['Target_encoded']\n",
        "\n",
        "# Divida el conjunto de datos en conjuntos de entrenamiento y prueba\n",
        "X_train, X_test, y_train, y_test = train_test_split(X, y, test_size=0.2, random_state=42)\n",
        "\n",
        "# Escalar los datos\n",
        "scaler = StandardScaler()\n",
        "X_train = scaler.fit_transform(X_train)\n",
        "X_test = scaler.transform(X_test)\n",
        "\n",
        "# Construye la red neuronal\n",
        "from keras.models import Sequential\n",
        "from keras.layers import Dense\n",
        "\n",
        "model = Sequential()\n",
        "model.add(Dense(8, input_dim=X_train.shape[1], activation='relu'))\n",
        "model.add(Dense(8, activation='relu'))\n",
        "model.add(Dense(1, activation='sigmoid'))\n",
        "\n",
        "# compilar el modelo\n",
        "model.compile(loss='binary_crossentropy', optimizer='adam', metrics=['accuracy'])\n",
        "\n",
        "# Entrenar el modelo\n",
        "model.fit(X_train, y_train, epochs=50, batch_size=10)\n",
        "\n",
        "# Evaluar el modelo\n",
        "loss, accuracy = model.evaluate(X_test, y_test)\n",
        "print(\"Accuracy:\", accuracy)\n",
        "\n",
        "# Hacer predicciones\n",
        "y_pred = np.round(model.predict(X_test))\n",
        "\n",
        "# Evaluar el modelo\n",
        "print(\"Accuracy:\", accuracy_score(y_test, y_pred))\n",
        "print(\"\\nClassification Report:\\n\", classification_report(y_test, y_pred))\n",
        "print(\"\\nConfusion Matrix:\\n\", confusion_matrix(y_test, y_pred))"
      ],
      "metadata": {
        "colab": {
          "base_uri": "https://localhost:8080/"
        },
        "id": "H-AIlhZiADqT",
        "outputId": "94f1bfdc-30a5-456d-e441-e30644a8db98"
      },
      "execution_count": null,
      "outputs": [
        {
          "output_type": "stream",
          "name": "stdout",
          "text": [
            "Epoch 1/50\n",
            "21/21 [==============================] - 1s 3ms/step - loss: -0.4780 - accuracy: 0.1961\n",
            "Epoch 2/50\n",
            "21/21 [==============================] - 0s 2ms/step - loss: -0.9804 - accuracy: 0.2402\n",
            "Epoch 3/50\n",
            "21/21 [==============================] - 0s 2ms/step - loss: -1.5055 - accuracy: 0.2402\n",
            "Epoch 4/50\n",
            "21/21 [==============================] - 0s 2ms/step - loss: -2.0970 - accuracy: 0.2402\n",
            "Epoch 5/50\n",
            "21/21 [==============================] - 0s 2ms/step - loss: -2.7287 - accuracy: 0.2402\n",
            "Epoch 6/50\n",
            "21/21 [==============================] - 0s 2ms/step - loss: -3.4733 - accuracy: 0.2402\n",
            "Epoch 7/50\n",
            "21/21 [==============================] - 0s 2ms/step - loss: -4.2972 - accuracy: 0.2402\n",
            "Epoch 8/50\n",
            "21/21 [==============================] - 0s 2ms/step - loss: -5.2607 - accuracy: 0.2402\n",
            "Epoch 9/50\n",
            "21/21 [==============================] - 0s 2ms/step - loss: -6.3599 - accuracy: 0.2402\n",
            "Epoch 10/50\n",
            "21/21 [==============================] - 0s 2ms/step - loss: -7.5848 - accuracy: 0.2402\n",
            "Epoch 11/50\n",
            "21/21 [==============================] - 0s 2ms/step - loss: -8.9869 - accuracy: 0.2402\n",
            "Epoch 12/50\n",
            "21/21 [==============================] - 0s 2ms/step - loss: -10.5968 - accuracy: 0.2402\n",
            "Epoch 13/50\n",
            "21/21 [==============================] - 0s 2ms/step - loss: -12.3402 - accuracy: 0.2402\n",
            "Epoch 14/50\n",
            "21/21 [==============================] - 0s 2ms/step - loss: -14.3716 - accuracy: 0.2402\n",
            "Epoch 15/50\n",
            "21/21 [==============================] - 0s 2ms/step - loss: -16.6708 - accuracy: 0.2402\n",
            "Epoch 16/50\n",
            "21/21 [==============================] - 0s 2ms/step - loss: -19.3353 - accuracy: 0.2402\n",
            "Epoch 17/50\n",
            "21/21 [==============================] - 0s 2ms/step - loss: -22.3196 - accuracy: 0.2402\n",
            "Epoch 18/50\n",
            "21/21 [==============================] - 0s 2ms/step - loss: -25.5571 - accuracy: 0.2402\n",
            "Epoch 19/50\n",
            "21/21 [==============================] - 0s 2ms/step - loss: -29.4177 - accuracy: 0.2402\n",
            "Epoch 20/50\n",
            "21/21 [==============================] - 0s 2ms/step - loss: -33.8847 - accuracy: 0.2402\n",
            "Epoch 21/50\n",
            "21/21 [==============================] - 0s 2ms/step - loss: -38.9592 - accuracy: 0.2402\n",
            "Epoch 22/50\n",
            "21/21 [==============================] - 0s 2ms/step - loss: -44.4551 - accuracy: 0.2402\n",
            "Epoch 23/50\n",
            "21/21 [==============================] - 0s 2ms/step - loss: -50.7658 - accuracy: 0.2402\n",
            "Epoch 24/50\n",
            "21/21 [==============================] - 0s 2ms/step - loss: -57.4633 - accuracy: 0.2402\n",
            "Epoch 25/50\n",
            "21/21 [==============================] - 0s 2ms/step - loss: -64.8842 - accuracy: 0.2402\n",
            "Epoch 26/50\n",
            "21/21 [==============================] - 0s 2ms/step - loss: -72.8132 - accuracy: 0.2402\n",
            "Epoch 27/50\n",
            "21/21 [==============================] - 0s 2ms/step - loss: -81.5503 - accuracy: 0.2402\n",
            "Epoch 28/50\n",
            "21/21 [==============================] - 0s 2ms/step - loss: -90.7060 - accuracy: 0.2402\n",
            "Epoch 29/50\n",
            "21/21 [==============================] - 0s 2ms/step - loss: -100.8745 - accuracy: 0.2402\n",
            "Epoch 30/50\n",
            "21/21 [==============================] - 0s 2ms/step - loss: -111.6092 - accuracy: 0.2402\n",
            "Epoch 31/50\n",
            "21/21 [==============================] - 0s 2ms/step - loss: -123.4150 - accuracy: 0.2402\n",
            "Epoch 32/50\n",
            "21/21 [==============================] - 0s 2ms/step - loss: -135.5444 - accuracy: 0.2402\n",
            "Epoch 33/50\n",
            "21/21 [==============================] - 0s 2ms/step - loss: -148.9592 - accuracy: 0.2402\n",
            "Epoch 34/50\n",
            "21/21 [==============================] - 0s 2ms/step - loss: -162.9578 - accuracy: 0.2402\n",
            "Epoch 35/50\n",
            "21/21 [==============================] - 0s 2ms/step - loss: -177.7324 - accuracy: 0.2402\n",
            "Epoch 36/50\n",
            "21/21 [==============================] - 0s 2ms/step - loss: -193.8402 - accuracy: 0.2402\n",
            "Epoch 37/50\n",
            "21/21 [==============================] - 0s 2ms/step - loss: -210.5698 - accuracy: 0.2402\n",
            "Epoch 38/50\n",
            "21/21 [==============================] - 0s 2ms/step - loss: -228.2282 - accuracy: 0.2402\n",
            "Epoch 39/50\n",
            "21/21 [==============================] - 0s 2ms/step - loss: -247.5159 - accuracy: 0.2402\n",
            "Epoch 40/50\n",
            "21/21 [==============================] - 0s 2ms/step - loss: -267.0612 - accuracy: 0.2402\n",
            "Epoch 41/50\n",
            "21/21 [==============================] - 0s 2ms/step - loss: -287.8937 - accuracy: 0.2402\n",
            "Epoch 42/50\n",
            "21/21 [==============================] - 0s 2ms/step - loss: -309.1013 - accuracy: 0.2402\n",
            "Epoch 43/50\n",
            "21/21 [==============================] - 0s 2ms/step - loss: -331.5940 - accuracy: 0.2402\n",
            "Epoch 44/50\n",
            "21/21 [==============================] - 0s 2ms/step - loss: -355.2319 - accuracy: 0.2402\n",
            "Epoch 45/50\n",
            "21/21 [==============================] - 0s 2ms/step - loss: -380.0572 - accuracy: 0.2402\n",
            "Epoch 46/50\n",
            "21/21 [==============================] - 0s 2ms/step - loss: -405.6684 - accuracy: 0.2402\n",
            "Epoch 47/50\n",
            "21/21 [==============================] - 0s 2ms/step - loss: -432.0873 - accuracy: 0.2402\n",
            "Epoch 48/50\n",
            "21/21 [==============================] - 0s 2ms/step - loss: -460.3374 - accuracy: 0.2402\n",
            "Epoch 49/50\n",
            "21/21 [==============================] - 0s 2ms/step - loss: -489.2401 - accuracy: 0.2402\n",
            "Epoch 50/50\n",
            "21/21 [==============================] - 0s 2ms/step - loss: -518.6620 - accuracy: 0.2402\n",
            "2/2 [==============================] - 0s 8ms/step - loss: -366.9436 - accuracy: 0.3269\n",
            "Accuracy: 0.32692307233810425\n",
            "2/2 [==============================] - 0s 7ms/step\n",
            "Accuracy: 0.3269230769230769\n",
            "\n",
            "Classification Report:\n",
            "               precision    recall  f1-score   support\n",
            "\n",
            "           0       0.00      0.00      0.00         2\n",
            "           1       0.33      1.00      0.49        17\n",
            "           2       0.00      0.00      0.00         4\n",
            "           3       0.00      0.00      0.00        10\n",
            "           4       0.00      0.00      0.00         2\n",
            "           5       0.00      0.00      0.00        16\n",
            "           6       0.00      0.00      0.00         1\n",
            "\n",
            "    accuracy                           0.33        52\n",
            "   macro avg       0.05      0.14      0.07        52\n",
            "weighted avg       0.11      0.33      0.16        52\n",
            "\n",
            "\n",
            "Confusion Matrix:\n",
            " [[ 0  2  0  0  0  0  0]\n",
            " [ 0 17  0  0  0  0  0]\n",
            " [ 0  4  0  0  0  0  0]\n",
            " [ 0 10  0  0  0  0  0]\n",
            " [ 0  2  0  0  0  0  0]\n",
            " [ 0 16  0  0  0  0  0]\n",
            " [ 0  1  0  0  0  0  0]]\n"
          ]
        },
        {
          "output_type": "stream",
          "name": "stderr",
          "text": [
            "/usr/local/lib/python3.10/dist-packages/sklearn/metrics/_classification.py:1344: UndefinedMetricWarning: Precision and F-score are ill-defined and being set to 0.0 in labels with no predicted samples. Use `zero_division` parameter to control this behavior.\n",
            "  _warn_prf(average, modifier, msg_start, len(result))\n",
            "/usr/local/lib/python3.10/dist-packages/sklearn/metrics/_classification.py:1344: UndefinedMetricWarning: Precision and F-score are ill-defined and being set to 0.0 in labels with no predicted samples. Use `zero_division` parameter to control this behavior.\n",
            "  _warn_prf(average, modifier, msg_start, len(result))\n",
            "/usr/local/lib/python3.10/dist-packages/sklearn/metrics/_classification.py:1344: UndefinedMetricWarning: Precision and F-score are ill-defined and being set to 0.0 in labels with no predicted samples. Use `zero_division` parameter to control this behavior.\n",
            "  _warn_prf(average, modifier, msg_start, len(result))\n"
          ]
        }
      ]
    },
    {
      "cell_type": "markdown",
      "source": [
        "K-Nearest Neighbors (KNN)"
      ],
      "metadata": {
        "id": "UtXN5MWs6jPa"
      }
    },
    {
      "cell_type": "code",
      "source": [
        "\n",
        "# Definir características (X) y variable objetivo (y)\n",
        "X = df[['Q1', 'Q2', 'Q3', 'Q4', 'Q5']]\n",
        "y = df['Target_encoded']\n",
        "\n",
        "# Divida el conjunto de datos en conjuntos de entrenamiento y prueba.\n",
        "X_train, X_test, y_train, y_test = train_test_split(X, y, test_size=0.2, random_state=42)\n",
        "\n",
        "# Inicializar el clasificador KNN\n",
        "knn_classifier = KNeighborsClassifier(n_neighbors=3)\n",
        "\n",
        "# Entrena el clasificador KNN\n",
        "knn_classifier.fit(X_train, y_train)\n",
        "\n",
        "# Predecir en el conjunto de prueba\n",
        "y_pred = knn_classifier.predict(X_test)\n",
        "\n",
        "# Evaluar el clasificador KNN\n",
        "accuracy = accuracy_score(y_test, y_pred)\n",
        "print(\"Accuracy:\", accuracy)\n",
        "\n",
        "# Imprimir el informe de clasificación\n",
        "print(\"\\nClassification Report:\")\n",
        "print(classification_report(y_test, y_pred))\n"
      ],
      "metadata": {
        "colab": {
          "base_uri": "https://localhost:8080/"
        },
        "id": "D1okgZbc3xTQ",
        "outputId": "5945a6a4-0179-4cab-be11-11737ea0c097"
      },
      "execution_count": null,
      "outputs": [
        {
          "output_type": "stream",
          "name": "stdout",
          "text": [
            "Accuracy: 0.25\n",
            "\n",
            "Classification Report:\n",
            "              precision    recall  f1-score   support\n",
            "\n",
            "           0       0.00      0.00      0.00         2\n",
            "           1       0.27      0.24      0.25        17\n",
            "           2       0.11      0.25      0.15         4\n",
            "           3       0.33      0.10      0.15        10\n",
            "           4       0.00      0.00      0.00         2\n",
            "           5       0.37      0.44      0.40        16\n",
            "           6       0.00      0.00      0.00         1\n",
            "\n",
            "    accuracy                           0.25        52\n",
            "   macro avg       0.15      0.15      0.14        52\n",
            "weighted avg       0.27      0.25      0.25        52\n",
            "\n"
          ]
        },
        {
          "output_type": "stream",
          "name": "stderr",
          "text": [
            "/usr/local/lib/python3.10/dist-packages/sklearn/metrics/_classification.py:1344: UndefinedMetricWarning: Precision and F-score are ill-defined and being set to 0.0 in labels with no predicted samples. Use `zero_division` parameter to control this behavior.\n",
            "  _warn_prf(average, modifier, msg_start, len(result))\n",
            "/usr/local/lib/python3.10/dist-packages/sklearn/metrics/_classification.py:1344: UndefinedMetricWarning: Precision and F-score are ill-defined and being set to 0.0 in labels with no predicted samples. Use `zero_division` parameter to control this behavior.\n",
            "  _warn_prf(average, modifier, msg_start, len(result))\n",
            "/usr/local/lib/python3.10/dist-packages/sklearn/metrics/_classification.py:1344: UndefinedMetricWarning: Precision and F-score are ill-defined and being set to 0.0 in labels with no predicted samples. Use `zero_division` parameter to control this behavior.\n",
            "  _warn_prf(average, modifier, msg_start, len(result))\n"
          ]
        }
      ]
    }
  ]
}